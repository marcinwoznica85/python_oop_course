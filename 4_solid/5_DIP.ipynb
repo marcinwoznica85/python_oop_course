{
 "cells": [
  {
   "attachments": {},
   "cell_type": "markdown",
   "metadata": {},
   "source": [
    "# The Dependency inversion Principle (DIP)\n",
    "\n",
    "![](../media/5_DIP.png)\n",
    "\n",
    "> 1. High-level modules should not depend on low-level modules. Both should depend on abstractions.\n",
    "> 1. Abstractions should not depend on details. Details should depend on abstractions."
   ]
  },
  {
   "cell_type": "code",
   "execution_count": null,
   "metadata": {},
   "outputs": [],
   "source": [
    "class Guitar:  # Low level module\n",
    "    def play(self):\n",
    "        print(\"Playing guitar...\")\n",
    "\n",
    "\n",
    "def music():  # High level module\n",
    "    guitar = Guitar()  # <--DEPENDENCY\n",
    "    guitar.play()\n",
    "\n",
    "\n",
    "music()\n",
    "\n",
    "# Problem 1: music() depends on Guitar = high coupling\n",
    "# Problem 2: to extend music() with violin you need to modify music definition = OCP violation"
   ]
  },
  {
   "attachments": {},
   "cell_type": "markdown",
   "metadata": {},
   "source": [
    "![](5_DIP.png)"
   ]
  },
  {
   "cell_type": "code",
   "execution_count": null,
   "metadata": {},
   "outputs": [],
   "source": [
    "from abc import ABC, abstractmethod\n",
    "\n",
    "\n",
    "# Solution: dependency inversion\n",
    "# music() now depends on abstraction\n",
    "# Instruments also depend on abstraction\n",
    "class Instrument(ABC):\n",
    "    @abstractmethod\n",
    "    def play(self):\n",
    "        ...\n",
    "\n",
    "class Guitar(Instrument):\n",
    "    def play(self):\n",
    "        print(\"Playing guitar...\")\n",
    "\n",
    "class Violin(Instrument):\n",
    "    def play(self):\n",
    "        print(\"Playing violin...\")\n",
    "\n",
    "def music(instrument: Instrument):\n",
    "    instrument.play()\n",
    "\n",
    "\n",
    "guitar = Guitar()\n",
    "violin = Violin()\n",
    "music(instrument=guitar)\n",
    "music(instrument=violin)"
   ]
  },
  {
   "attachments": {},
   "cell_type": "markdown",
   "metadata": {},
   "source": [
    "Questions?"
   ]
  }
 ],
 "metadata": {
  "kernelspec": {
   "display_name": "python-oop-r_Rj-fig-py3.10",
   "language": "python",
   "name": "python3"
  },
  "language_info": {
   "codemirror_mode": {
    "name": "ipython",
    "version": 3
   },
   "file_extension": ".py",
   "mimetype": "text/x-python",
   "name": "python",
   "nbconvert_exporter": "python",
   "pygments_lexer": "ipython3",
   "version": "3.10.6"
  },
  "orig_nbformat": 4,
  "vscode": {
   "interpreter": {
    "hash": "61a0187907a68c34b7d3c9479ef03cf0dde3071604f882e18ddbd2f3d951afe1"
   }
  }
 },
 "nbformat": 4,
 "nbformat_minor": 2
}
