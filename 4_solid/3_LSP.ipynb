{
 "cells": [
  {
   "attachments": {},
   "cell_type": "markdown",
   "metadata": {},
   "source": [
    "# The Liskov Substitution Principle (LSP)\n",
    "\n",
    "> Objects of a superclass should be replaceable with objects of its subclasses without breaking the application\n",
    "\n",
    "![](../media/3_LSP.png)"
   ]
  },
  {
   "cell_type": "code",
   "execution_count": null,
   "metadata": {},
   "outputs": [],
   "source": [
    "from abc import ABC, abstractclassmethod\n",
    "\n",
    "\n",
    "class NPC(ABC):\n",
    "    @abstractclassmethod\n",
    "    def dance(self) -> bool:\n",
    "        ...\n",
    "\n",
    "    def eat(self) -> None:\n",
    "        print(\"Mniam am am am...\")\n",
    "\n",
    "\n",
    "class Human(NPC):\n",
    "    def dance(self) -> bool:\n",
    "        print(\"Going wild on the dance floor.\")\n",
    "        return True\n",
    "\n",
    "\n",
    "class Hobbit(NPC):\n",
    "    def dance(self) -> None:  # LSP violation\n",
    "        print(\"I have large feet.\")\n",
    "\n",
    "\n",
    "class Orc(NPC):\n",
    "    def dance(self) -> bool:\n",
    "        raise NotImplementedError  # LSP violation\n",
    "        return False\n",
    "\n",
    "    def fight(self) -> None:\n",
    "        print(\"Kill all humans.\")\n",
    "\n",
    "\n",
    "class Party:\n",
    "    def __init__(self, guests: list[NPC]) -> None:\n",
    "        self._guests = guests\n",
    "\n",
    "    def start(self) -> None:\n",
    "        for guest in self._guests:\n",
    "            guest.dance()\n",
    "\n",
    "\n",
    "human = Human()\n",
    "hobbit = Hobbit()\n",
    "orc = Orc()\n",
    "\n",
    "party = Party(guests=[human, hobbit, orc])\n",
    "party.start()\n",
    "\n",
    "# If Hobbit doesn't return bool when dancing it's not NPC (non-failing case)\n",
    "# If Orc wants to party he has to dance otherwise it's not NPC (failing case)"
   ]
  },
  {
   "attachments": {},
   "cell_type": "markdown",
   "metadata": {},
   "source": [
    "Questions?"
   ]
  }
 ],
 "metadata": {
  "kernelspec": {
   "display_name": "python-oop-r_Rj-fig-py3.10",
   "language": "python",
   "name": "python3"
  },
  "language_info": {
   "codemirror_mode": {
    "name": "ipython",
    "version": 3
   },
   "file_extension": ".py",
   "mimetype": "text/x-python",
   "name": "python",
   "nbconvert_exporter": "python",
   "pygments_lexer": "ipython3",
   "version": "3.10.6"
  },
  "orig_nbformat": 4,
  "vscode": {
   "interpreter": {
    "hash": "61a0187907a68c34b7d3c9479ef03cf0dde3071604f882e18ddbd2f3d951afe1"
   }
  }
 },
 "nbformat": 4,
 "nbformat_minor": 2
}
