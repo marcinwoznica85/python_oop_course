{
 "cells": [
  {
   "attachments": {},
   "cell_type": "markdown",
   "metadata": {},
   "source": [
    "# The Interface Segregation Principle (ISP)\n",
    "\n",
    "> Clients should not be forced to depend upon interfaces that they do not use\n",
    "\n",
    "![](../media/4_ISP.png)\n",
    "\n",
    "> Interface is:\n",
    "> - set of ways that you can interact with object (class)\n",
    "> - list of signatures and attributes available to class user\n",
    "> - all inputs and outputs (return values) from class methods and attributes"
   ]
  },
  {
   "cell_type": "code",
   "execution_count": null,
   "metadata": {},
   "outputs": [],
   "source": [
    "from abc import ABC, abstractmethod\n",
    "\n",
    "\n",
    "class Document(ABC):\n",
    "    @abstractmethod\n",
    "    def save(self) -> None:\n",
    "        ...\n",
    "\n",
    "    @abstractmethod\n",
    "    def print_(self) -> None:\n",
    "        ...\n",
    "\n",
    "    @abstractmethod\n",
    "    def view(self) -> None:\n",
    "        ...\n",
    "\n",
    "    @abstractmethod\n",
    "    def play(self) -> None:\n",
    "        ...\n",
    "\n",
    "\n",
    "class Jpeg(Document):\n",
    "    def save(self) -> None:\n",
    "        print(\"Saving jpeg document\")\n",
    "\n",
    "    def print_(self) -> None:\n",
    "        print(\"Printing jpeg document\")\n",
    "\n",
    "    def view(self) -> None:\n",
    "        print(\"Viewing jpeg document\")\n",
    "    \n",
    "    def play(self) -> None:\n",
    "        pass\n",
    "\n",
    "\n",
    "class Mp3(Document):\n",
    "    def save(self):\n",
    "        print(\"Saving mp3\")\n",
    "\n",
    "    def print_(self) -> None:\n",
    "        pass\n",
    "\n",
    "    def view(self) -> None:\n",
    "        pass\n",
    "\n",
    "    def play(self):\n",
    "        print(\"Playing mp3\")"
   ]
  }
 ],
 "metadata": {
  "kernelspec": {
   "display_name": "python-oop-r_Rj-fig-py3.10",
   "language": "python",
   "name": "python3"
  },
  "language_info": {
   "name": "python",
   "version": "3.10.6"
  },
  "orig_nbformat": 4,
  "vscode": {
   "interpreter": {
    "hash": "61a0187907a68c34b7d3c9479ef03cf0dde3071604f882e18ddbd2f3d951afe1"
   }
  }
 },
 "nbformat": 4,
 "nbformat_minor": 2
}
