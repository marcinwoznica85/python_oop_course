{
 "cells": [
  {
   "attachments": {},
   "cell_type": "markdown",
   "metadata": {},
   "source": [
    "# The Single Responsibility Principle (SRP)\n",
    "\n",
    "> A class should have one, and only one, reason to change\n",
    "\n",
    "![](../media/1_SRP.png)\n",
    "\n",
    "Well implemented SRP means that class:\n",
    "- has one, well-defined responsibility\n",
    "- methods and attributes are related to class single responsibility\n",
    "- has high cohesion\n",
    "- is loosely coupled (independent of other classes)\n",
    "- will need to be changed only when its main responsibility changes"
   ]
  },
  {
   "cell_type": "code",
   "execution_count": null,
   "metadata": {},
   "outputs": [],
   "source": [
    "class Album:\n",
    "    \"\"\"Manipulate list of songs in album\"\"\"\n",
    "    def __init__(self, name: str, artist: str, songs: list[str]) -> None:\n",
    "        self.name = name\n",
    "        self.artist = artist\n",
    "        self.songs = songs\n",
    "\n",
    "    def add_song(self, song: str) -> None:\n",
    "        self.songs.append(song)\n",
    "\n",
    "    def remove_song(self, song: str) -> None:\n",
    "        self.songs.remove(song)\n",
    "\n",
    "    def search_album_by_artist(self) -> list[str]:  # breaks the SRP\n",
    "        \"\"\"Searching the database for other albums by same artist\"\"\"\n",
    "        pass\n",
    "\n",
    "\n",
    "# Two reasons to change for Album class:\n",
    "# 1. Changed way of manipulating/storing songs in album\n",
    "# 2. Changed database and way it needs to be searched"
   ]
  },
  {
   "cell_type": "code",
   "execution_count": null,
   "metadata": {},
   "outputs": [],
   "source": [
    "# Solution - extract responsibility to another class\n",
    "class AlbumBrowser:\n",
    "    \"\"\"Browse albums saved in database\"\"\"\n",
    "    def search_album_by_artist(self, album: Album, artist: str) -> list[str]:\n",
    "        pass\n",
    "\n",
    "    def search_album_starting_with_letter(self, album: Album, letter: str) -> list[str]:\n",
    "        pass"
   ]
  }
 ],
 "metadata": {
  "kernelspec": {
   "display_name": "python-oop-r_Rj-fig-py3.10",
   "language": "python",
   "name": "python3"
  },
  "language_info": {
   "name": "python",
   "version": "3.10.6"
  },
  "orig_nbformat": 4,
  "vscode": {
   "interpreter": {
    "hash": "61a0187907a68c34b7d3c9479ef03cf0dde3071604f882e18ddbd2f3d951afe1"
   }
  }
 },
 "nbformat": 4,
 "nbformat_minor": 2
}
