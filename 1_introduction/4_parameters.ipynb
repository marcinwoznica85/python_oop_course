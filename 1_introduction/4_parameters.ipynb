{
 "cells": [
  {
   "attachments": {},
   "cell_type": "markdown",
   "metadata": {},
   "source": [
    "## Parameter vs Argument"
   ]
  },
  {
   "cell_type": "code",
   "execution_count": null,
   "metadata": {},
   "outputs": [],
   "source": [
    "def generate_money(investment: int) -> int:\n",
    "    return 2 * investment\n",
    "\n",
    "generate_money(1000)"
   ]
  },
  {
   "attachments": {},
   "cell_type": "markdown",
   "metadata": {},
   "source": [
    "## Signature\n",
    "\n",
    "> signature - set of parameters and return annotation for given callable"
   ]
  },
  {
   "cell_type": "code",
   "execution_count": null,
   "metadata": {},
   "outputs": [],
   "source": [
    "from inspect import signature\n",
    "\n",
    "\n",
    "def fun1(a: int, b: float, c: str = \"goat\") -> list[int | float | str]:\n",
    "    return [a, b, c]\n",
    "\n",
    "\n",
    "str(signature(fun1))"
   ]
  },
  {
   "attachments": {},
   "cell_type": "markdown",
   "metadata": {},
   "source": [
    "## Constructor\n",
    "- although not technically correct by convention `__init__` method is called _constructor_\n",
    "- constructor is responsible for setting initial state of an instance\n",
    "- constructor allows declaring signature for class\n",
    "\n"
   ]
  },
  {
   "cell_type": "code",
   "execution_count": null,
   "metadata": {},
   "outputs": [],
   "source": [
    "from inspect import signature\n",
    "\n",
    "\n",
    "class Cat:\n",
    "    def __init__(self, color: str, age: int, legs: int = 4) -> None:\n",
    "        self.kolor = color\n",
    "        self.age_days = age * 365\n",
    "        self.legs = legs\n",
    "\n",
    "\n",
    "cat_1 = Cat(color=\"red\", age=3)\n",
    "cat_2 = Cat(color=\"green\", age=7, legs=5)\n",
    "\n",
    "print(cat_1.kolor, cat_1.age_days, cat_1.legs)\n",
    "print(cat_2.kolor, cat_2.age_days, cat_2.legs)\n",
    "\n",
    "signature(Cat)"
   ]
  },
  {
   "attachments": {},
   "cell_type": "markdown",
   "metadata": {},
   "source": [
    "Questions?"
   ]
  },
  {
   "attachments": {},
   "cell_type": "markdown",
   "metadata": {},
   "source": [
    "Exercise\n",
    "\n",
    "=== Short break ==="
   ]
  }
 ],
 "metadata": {
  "kernelspec": {
   "display_name": "Python 3",
   "language": "python",
   "name": "python3"
  },
  "language_info": {
   "codemirror_mode": {
    "name": "ipython",
    "version": 3
   },
   "file_extension": ".py",
   "mimetype": "text/x-python",
   "name": "python",
   "nbconvert_exporter": "python",
   "pygments_lexer": "ipython3",
   "version": "3.10.6"
  },
  "orig_nbformat": 4,
  "vscode": {
   "interpreter": {
    "hash": "631cc59691aa2975cf441ed089e512e56035cd73b61a7e03a7a910c32bac454c"
   }
  }
 },
 "nbformat": 4,
 "nbformat_minor": 2
}
