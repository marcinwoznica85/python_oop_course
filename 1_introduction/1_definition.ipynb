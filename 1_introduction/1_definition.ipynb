{
 "cells": [
  {
   "attachments": {},
   "cell_type": "markdown",
   "metadata": {},
   "source": [
    "## What is a class?\n",
    "- means of bundling data and functionality together in new namespace\n",
    "- new class becomes a new type in Python\n",
    "- blueprint for creating objects of that type\n",
    "\n",
    "\n",
    "![](../media/class.png)\n",
    "\n",
    "### Syntax"
   ]
  },
  {
   "cell_type": "code",
   "execution_count": null,
   "metadata": {},
   "outputs": [],
   "source": [
    "class ClassName:  # CamelCase by convention\n",
    "    # class namespace below\n",
    "    data_member = ...\n",
    "    state = ...\n",
    "    field = ...\n",
    "    variable = ...\n",
    "    property = ...\n",
    "    attribute = 123  # use word \"attribute\" as convention\n",
    "\n",
    "    def behavior():\n",
    "        ...\n",
    "\n",
    "    def function():\n",
    "        ...\n",
    "\n",
    "    def method():  # use word \"method\" as convention\n",
    "        ...\n",
    "\n",
    "\n",
    "print(type(44))\n",
    "print(type(int))\n",
    "\n",
    "print(type(ClassName))\n",
    "print(type(ClassName.attribute))\n",
    "print(type(ClassName.method))"
   ]
  },
  {
   "attachments": {},
   "cell_type": "markdown",
   "metadata": {},
   "source": [
    "> Attribute - variable defined in class\n",
    "\n",
    "> Method - function defined in class\n",
    "\n",
    "> Definition - a code defining eg. function\n",
    "\n",
    "> Implementation - a code implementing defined element"
   ]
  },
  {
   "attachments": {},
   "cell_type": "markdown",
   "metadata": {},
   "source": [
    "### Namespaces\n",
    "> Namespace - a container that holds a set of identifiers (i.e., variable names, function names, class names, etc.). Each identifier is mapped to an object, such as a variable, function, or class, and it allows you to access that object using its identifier. Namespaces are used to prevent naming conflicts and to organize your code."
   ]
  },
  {
   "cell_type": "code",
   "execution_count": null,
   "metadata": {},
   "outputs": [],
   "source": [
    "race = \"human\"\n",
    "class Alien:\n",
    "    race = \"reptilian\"\n",
    "\n",
    "print(race, Alien.race)"
   ]
  },
  {
   "attachments": {},
   "cell_type": "markdown",
   "metadata": {},
   "source": [
    "### Look inside\n",
    "Even empty class have multiple internal attributes and methods"
   ]
  },
  {
   "cell_type": "code",
   "execution_count": null,
   "metadata": {},
   "outputs": [],
   "source": [
    "from pprint import pprint\n",
    "\n",
    "\n",
    "class Alien:\n",
    "    race = \"reptilian\"\n",
    "\n",
    "\n",
    "pprint(dir(Alien))\n"
   ]
  },
  {
   "attachments": {},
   "cell_type": "markdown",
   "metadata": {},
   "source": [
    "Questions?"
   ]
  }
 ],
 "metadata": {
  "kernelspec": {
   "display_name": "Python 3",
   "language": "python",
   "name": "python3"
  },
  "language_info": {
   "codemirror_mode": {
    "name": "ipython",
    "version": 3
   },
   "file_extension": ".py",
   "mimetype": "text/x-python",
   "name": "python",
   "nbconvert_exporter": "python",
   "pygments_lexer": "ipython3",
   "version": "3.10.6"
  },
  "orig_nbformat": 4,
  "vscode": {
   "interpreter": {
    "hash": "631cc59691aa2975cf441ed089e512e56035cd73b61a7e03a7a910c32bac454c"
   }
  }
 },
 "nbformat": 4,
 "nbformat_minor": 2
}
