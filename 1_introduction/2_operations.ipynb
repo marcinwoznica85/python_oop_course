{
 "cells": [
  {
   "attachments": {},
   "cell_type": "markdown",
   "metadata": {},
   "source": [
    "# Operations on classes"
   ]
  },
  {
   "cell_type": "code",
   "execution_count": null,
   "metadata": {},
   "outputs": [],
   "source": [
    "class Spy:\n",
    "    experience = 100\n",
    "    medikit = \"Grizzly medical kit\"\n",
    "    gun = \"Glock 17\"\n",
    "\n",
    "    def shoot() -> None:\n",
    "        print(\"Shooting\")\n",
    "\n",
    "    def heal() -> None:\n",
    "        print(\"Healing\")\n",
    "\n",
    "\n",
    "# attrubute reference\n",
    "# access namespace with \"dot notation\"\n",
    "print(Spy.experience)\n",
    "print(Spy.medikit)\n",
    "print(Spy.gun)\n",
    "\n",
    "\n",
    "# calling method reference from class\n",
    "Spy.shoot()\n",
    "Spy.heal()\n",
    "\n",
    "# instantiation by calling a class\n",
    "spy = Spy()"
   ]
  },
  {
   "attachments": {},
   "cell_type": "markdown",
   "metadata": {},
   "source": [
    "> Instantiation - creating and initializing new instance of a class (new class object)\n",
    "\n",
    "> Instantiation is done by calling class eg. `Spy()`"
   ]
  },
  {
   "cell_type": "markdown",
   "metadata": {},
   "source": [
    "Questions?"
   ]
  }
 ],
 "metadata": {
  "kernelspec": {
   "display_name": "Python 3",
   "language": "python",
   "name": "python3"
  },
  "language_info": {
   "codemirror_mode": {
    "name": "ipython",
    "version": 3
   },
   "file_extension": ".py",
   "mimetype": "text/x-python",
   "name": "python",
   "nbconvert_exporter": "python",
   "pygments_lexer": "ipython3",
   "version": "3.10.6"
  },
  "orig_nbformat": 4,
  "vscode": {
   "interpreter": {
    "hash": "631cc59691aa2975cf441ed089e512e56035cd73b61a7e03a7a910c32bac454c"
   }
  }
 },
 "nbformat": 4,
 "nbformat_minor": 2
}
