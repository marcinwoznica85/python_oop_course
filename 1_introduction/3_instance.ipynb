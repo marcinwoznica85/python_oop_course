{
 "cells": [
  {
   "attachments": {},
   "cell_type": "markdown",
   "metadata": {},
   "source": [
    "## Instance / class object\n",
    "> Instance / class object - new Python object created from class, initialized, `cls`-aware and `self`-aware\n",
    "\n"
   ]
  },
  {
   "cell_type": "code",
   "execution_count": null,
   "metadata": {},
   "outputs": [],
   "source": [
    "class Spy:\n",
    "    gun = \"Walter PPQ\"  # all instances will share 'gun'\n",
    "\n",
    "    def __init__(self) -> None:  # 'constructor'\n",
    "        self.bullets = 10  # every instance has it's own 'bullets'\n",
    "\n",
    "    def shoot(self) -> None:\n",
    "        print(\"Shooting\")\n",
    "        self.bullets -= 1\n",
    "\n",
    "\n",
    "spy1 = Spy()\n",
    "spy2 = Spy()\n",
    "\n",
    "spy1.shoot()\n",
    "spy1.shoot()\n",
    "spy2.shoot()\n",
    "\n",
    "print(spy1.bullets, spy2.bullets)\n",
    "# print(Spy.bullets)"
   ]
  },
  {
   "attachments": {},
   "cell_type": "markdown",
   "metadata": {},
   "source": [
    "> Class attribute - attribute that is bound to the class and accessible from all instances\n",
    "\n",
    "> Instance attribute - attribute that is bound to the instance and not accessible to the class or other instances\n",
    "\n",
    "![](../media/self.png)"
   ]
  },
  {
   "attachments": {},
   "cell_type": "markdown",
   "metadata": {},
   "source": [
    "## `__init__`"
   ]
  },
  {
   "attachments": {},
   "cell_type": "markdown",
   "metadata": {},
   "source": [
    "Internally object instantiation is a two step process:\n",
    "1. creation - making new instance of target class using `__new__()` method\n",
    "1. initaialization - setting initial state of an instance by using `__init__()` method; class isn't initialized\n",
    "\n",
    "Usually `__init__` is used to set instance attributes: `self.<attribute_name>`\n"
   ]
  },
  {
   "attachments": {},
   "cell_type": "markdown",
   "metadata": {},
   "source": [
    "## Why `self`?\n",
    "- every class instance gets its own namespace and can be referenced directly by instance name\n",
    "- `self` is a reference name used __in class definition__ to access instance own namespace*\n",
    "- `self` name is a strong convention in Python\n",
    "\n",
    "_\\* - if referenced element exists in instance's namespace_"
   ]
  },
  {
   "cell_type": "code",
   "execution_count": null,
   "metadata": {},
   "outputs": [],
   "source": [
    "class Woman:\n",
    "    def __init__(self) -> None:\n",
    "        self.weight = 60\n",
    "\n",
    "    def workout(self, hours: int) -> None:\n",
    "        self.weight -= hours\n",
    "        print(f\"I lost 2 kg of weight and have {self.weight} kg now\")\n",
    "\n",
    "\n",
    "eve = Woman()  # 'self' argument is provided automatically\n",
    "eve.workout(hours=3)  # a.a.\n",
    "eve.workout(hours=2)\n"
   ]
  },
  {
   "attachments": {},
   "cell_type": "markdown",
   "metadata": {},
   "source": [
    "- `self` must be first parameter in method definition\n",
    "- calling a method will automatically pass `self` argument"
   ]
  },
  {
   "attachments": {},
   "cell_type": "markdown",
   "metadata": {},
   "source": [
    "Questions?"
   ]
  },
  {
   "attachments": {},
   "cell_type": "markdown",
   "metadata": {},
   "source": [
    "Exercise"
   ]
  }
 ],
 "metadata": {
  "kernelspec": {
   "display_name": "Python 3",
   "language": "python",
   "name": "python3"
  },
  "language_info": {
   "codemirror_mode": {
    "name": "ipython",
    "version": 3
   },
   "file_extension": ".py",
   "mimetype": "text/x-python",
   "name": "python",
   "nbconvert_exporter": "python",
   "pygments_lexer": "ipython3",
   "version": "3.10.6"
  },
  "orig_nbformat": 4,
  "vscode": {
   "interpreter": {
    "hash": "631cc59691aa2975cf441ed089e512e56035cd73b61a7e03a7a910c32bac454c"
   }
  }
 },
 "nbformat": 4,
 "nbformat_minor": 2
}
