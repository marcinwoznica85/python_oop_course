{
 "cells": [
  {
   "attachments": {},
   "cell_type": "markdown",
   "metadata": {},
   "source": [
    "# Prior knowledge\n",
    "## Static typing\n",
    "Throughout training type annotations will be used and will be applied to function parameters and return values. Typing helps developer to better understand data types used in program and thanks to static type checkers like mypy it allows to find potential bugs before they even occur. Many IDEs recognise type hints and provide IntelliSense which further improves development process."
   ]
  },
  {
   "cell_type": "code",
   "execution_count": null,
   "metadata": {},
   "outputs": [],
   "source": [
    "def get_goat_info(age: int, name: str) -> str:\n",
    "    return f\"{name} is a {age} year(s) old goat\"\n",
    "\n",
    "\n",
    "get_goat_info(age=4, name=\"Ernest\")\n"
   ]
  },
  {
   "attachments": {},
   "cell_type": "markdown",
   "metadata": {},
   "source": [
    "## Keyworded arguments\n",
    "Although it's possible to use positional and keyworded arguments in Python, for almost every function keyword arguments will be used to be more explicit.\n",
    "The exception can be for obvious functions with obvious arguments. Examples:"
   ]
  },
  {
   "cell_type": "code",
   "execution_count": null,
   "metadata": {},
   "outputs": [],
   "source": [
    "from math import cos\n",
    "\n",
    "cos(2)\n",
    "len([1, 2, 3])\n",
    "sum([1, 2, 3])\n",
    "range(0, 11, 2)"
   ]
  },
  {
   "attachments": {},
   "cell_type": "markdown",
   "metadata": {},
   "source": [
    "## Implementation placeholders\n",
    "Both ellipsis (`...`) and `pass` can be used as a placeholder in function definition. In fact anything can be used as a placeholder, even `123` or `None`. By convention developers use `pass` or (`...`). Here we will use (`...`)."
   ]
  },
  {
   "cell_type": "code",
   "execution_count": null,
   "metadata": {},
   "outputs": [],
   "source": [
    "def later() -> None:\n",
    "\t..."
   ]
  },
  {
   "attachments": {},
   "cell_type": "markdown",
   "metadata": {},
   "source": [
    "## PascalCase\n",
    "Class names will ALWAYS be in PascalCase:\n",
    "\n",
    "```\n",
    "JohnRambo\n",
    "KingOfTheNorth\n",
    "VehicleMechanic\n",
    "ActiveDirectory\n",
    "HttpError\n",
    "```"
   ]
  },
  {
   "attachments": {},
   "cell_type": "markdown",
   "metadata": {},
   "source": [
    "## snake_case\n",
    "Variable names will ALWAYS be in snake_case:\n",
    "```\n",
    "john_rambo\n",
    "king_of_the_north\n",
    "vehicle_mechanic\n",
    "active_directory\n",
    "http_error\n",
    "```"
   ]
  },
  {
   "attachments": {},
   "cell_type": "markdown",
   "metadata": {},
   "source": [
    "## Decorator\n",
    "A function that changes behavior of other function (or class).\n",
    "Example:\n",
    "\n"
   ]
  },
  {
   "cell_type": "code",
   "execution_count": null,
   "metadata": {},
   "outputs": [],
   "source": [
    "@my_decorator\n",
    "def get_number() -> int:\n",
    "    return 7\n",
    "\n",
    "\n",
    "get_number()\n"
   ]
  }
 ],
 "metadata": {
  "kernelspec": {
   "display_name": "python-oop-r_Rj-fig-py3.10",
   "language": "python",
   "name": "python3"
  },
  "language_info": {
   "codemirror_mode": {
    "name": "ipython",
    "version": 3
   },
   "file_extension": ".py",
   "mimetype": "text/x-python",
   "name": "python",
   "nbconvert_exporter": "python",
   "pygments_lexer": "ipython3",
   "version": "3.10.6"
  },
  "orig_nbformat": 4,
  "vscode": {
   "interpreter": {
    "hash": "61a0187907a68c34b7d3c9479ef03cf0dde3071604f882e18ddbd2f3d951afe1"
   }
  }
 },
 "nbformat": 4,
 "nbformat_minor": 2
}
