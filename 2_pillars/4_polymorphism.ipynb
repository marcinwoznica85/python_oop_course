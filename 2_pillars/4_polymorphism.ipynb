{
 "cells": [
  {
   "attachments": {},
   "cell_type": "markdown",
   "metadata": {},
   "source": [
    "# Polymorphism\n",
    "> Using single entity to represent different types in different scenarios."
   ]
  },
  {
   "attachments": {},
   "cell_type": "markdown",
   "metadata": {},
   "source": [
    "### Addition operator\n",
    "Used for adding both integers and strings"
   ]
  },
  {
   "cell_type": "code",
   "execution_count": null,
   "metadata": {},
   "outputs": [],
   "source": [
    "print(1+2)\n",
    "print(\"a\"+\"b\")"
   ]
  },
  {
   "attachments": {},
   "cell_type": "markdown",
   "metadata": {},
   "source": [
    "### Function polymorphism\n",
    "`len()` used for string, list or dict"
   ]
  },
  {
   "cell_type": "code",
   "execution_count": null,
   "metadata": {},
   "outputs": [],
   "source": [
    "len(\"test\")\n",
    "len([2, 3, 4])\n",
    "len({\"a\": 1, \"b\": 2})"
   ]
  },
  {
   "attachments": {},
   "cell_type": "markdown",
   "metadata": {},
   "source": [
    "### Class polymorphism\n",
    "Two unrelated classes can have attribute with the same name that you can access while iterating"
   ]
  },
  {
   "cell_type": "code",
   "execution_count": null,
   "metadata": {},
   "outputs": [],
   "source": [
    "class Cat:\n",
    "    name = \"kitty\"\n",
    "\n",
    "\n",
    "class Dog:\n",
    "    name = \"doggy\"\n",
    "\n",
    "\n",
    "\n",
    "for animal in (Dog, Cat):  # not concerned what objects it iterates over\n",
    "    print(animal.name)"
   ]
  },
  {
   "attachments": {},
   "cell_type": "markdown",
   "metadata": {},
   "source": [
    "### Method overriding\n",
    ">  method overriding - a technique in OOP where a subclass provides a new implementation for a method that is already defined in its superclass"
   ]
  },
  {
   "cell_type": "code",
   "execution_count": null,
   "metadata": {},
   "outputs": [],
   "source": [
    "class Animal:\n",
    "    def eat(self) -> None:\n",
    "        print(\"Eating...\")\n",
    "\n",
    "    def make_sound(self) -> None:\n",
    "        print(\"Some generic animal sound\")\n",
    "\n",
    "\n",
    "class Dog(Animal):\n",
    "    def make_sound(self) -> None:\n",
    "        print(\"Bark\")\n",
    "\n",
    "\n",
    "class Cat(Animal):\n",
    "    def make_sound(self) -> None:\n",
    "        print(\"Meow\")\n",
    "\n",
    "\n",
    "dog = Dog()\n",
    "cat = Cat()\n",
    "dog.make_sound()\n",
    "cat.make_sound()"
   ]
  },
  {
   "attachments": {},
   "cell_type": "markdown",
   "metadata": {},
   "source": [
    "#### super()\n",
    "In order to extend `__init__` it's common practice to first call parent's `__init__` and add extra behavior after.\n",
    "`super()` function \"jumps\" into parent class namespace and allows for easy calling of parent's `__init__`"
   ]
  },
  {
   "cell_type": "code",
   "execution_count": null,
   "metadata": {},
   "outputs": [],
   "source": [
    "class Flower:\n",
    "    def __init__(self, color: str) -> None:\n",
    "        self.color = color\n",
    "        self.fragrance = \"strong\"\n",
    "        self.days = 10\n",
    "        self.size = \"big\"\n",
    "\n",
    "    def get_info(self) -> str:\n",
    "        return f\"This flower is {self.size} and {self.color}\"\n",
    "\n",
    "\n",
    "class Rose(Flower):\n",
    "    def __init__(self, color: str, price: float) -> None:\n",
    "        super().__init__(color=color)  # Flower.__init__(color=color)\n",
    "        self.price = price\n",
    "\n",
    "    def get_info(self) -> str:\n",
    "        return f\"This flower is {self.size} and {self.color}, has {self.fragrance} fragrance and costs {self.price} PLN\"\n",
    "\n",
    "\n",
    "rose = Rose(color=\"red\", price=15.78)\n",
    "rose.get_info()\n"
   ]
  },
  {
   "attachments": {},
   "cell_type": "markdown",
   "metadata": {},
   "source": [
    "### Method overloading\n",
    "> Method overloading - a technique in OOP where two or more methods have the same name but different number of parameters or different types of parameters\n",
    "\n",
    "In Python direct method overloading doesn't work"
   ]
  },
  {
   "cell_type": "code",
   "execution_count": 2,
   "metadata": {},
   "outputs": [
    {
     "name": "stdout",
     "output_type": "stream",
     "text": [
      "first\n",
      "second\n",
      "third\n"
     ]
    }
   ],
   "source": [
    "from multipledispatch import dispatch\n",
    "\n",
    "\n",
    "@dispatch(int, int)\n",
    "def foo(a, b) -> None:\n",
    "    print(\"first\")\n",
    "\n",
    "\n",
    "@dispatch(int, int, int)\n",
    "def foo(a, b, c) -> None:\n",
    "    print(\"second\")\n",
    "\n",
    "\n",
    "@dispatch(str, str)\n",
    "def foo(a, b) -> None:\n",
    "    print(\"third\")\n",
    "\n",
    "\n",
    "foo(1, 2)\n",
    "foo(1, 2, 3)\n",
    "foo(\"raz\", \"dwa\")"
   ]
  },
  {
   "attachments": {},
   "cell_type": "markdown",
   "metadata": {},
   "source": [
    "### Callable\n",
    "> Callable - an object that can be called\n",
    "\n",
    "Object is callable if it implements `__call__` method that can by executed by using `()`"
   ]
  },
  {
   "cell_type": "code",
   "execution_count": null,
   "metadata": {},
   "outputs": [],
   "source": [
    "class Cow:\n",
    "    def milk_very_gently(self, liters: int) -> None:\n",
    "        print(f\"Here, take {liters}L of my milk!\")\n",
    "\n",
    "    def __call__(self, liters: int = 2) -> None:\n",
    "        self.milk_very_gently(liters)\n",
    "\n",
    "\n",
    "cow = Cow()\n",
    "\n",
    "cow.milk_very_gently(liters=2)\n",
    "# OR\n",
    "cow()"
   ]
  },
  {
   "attachments": {},
   "cell_type": "markdown",
   "metadata": {},
   "source": [
    "### Iterable\n",
    "> Iterable - an object capable of returning its members one at a time\n",
    "\n",
    "Object is iterable if it's possible to iterate over it using for-loop"
   ]
  },
  {
   "cell_type": "code",
   "execution_count": null,
   "metadata": {},
   "outputs": [],
   "source": [
    "from typing import Generator\n",
    "\n",
    "\n",
    "class ScanResults:\n",
    "    def __init__(self) -> None:\n",
    "        self.vulnerabilities = [\n",
    "            \"vul1\",\n",
    "            \"vul2\",\n",
    "            \"vul3\",\n",
    "            \"vul4\",\n",
    "            \"vul5\",\n",
    "            \"vul6\",\n",
    "            \"vul7\",\n",
    "            \"vul8\",\n",
    "        ]\n",
    "        self.incompliances = [\n",
    "            \"inc1\",\n",
    "            \"inc2\",\n",
    "            \"inc3\",\n",
    "            \"inc4\",\n",
    "            \"inc5\",\n",
    "        ]\n",
    "\n",
    "    def __iter__(self) -> Generator[str, None, None]:\n",
    "        return iter(self.vulnerabilities)\n",
    "\n",
    "\n",
    "scan_results = ScanResults()\n",
    "\n",
    "for result in scan_results:\n",
    "    print(result)\n"
   ]
  },
  {
   "cell_type": "code",
   "execution_count": null,
   "metadata": {},
   "outputs": [],
   "source": [
    "from random import randint\n",
    "\n",
    "\n",
    "class Vulnerability:\n",
    "    def __iter__(self):\n",
    "        while (x:=randint(0, 5)) != 0:\n",
    "            yield x\n",
    "\n",
    "\n",
    "vulnerability = Vulnerability()\n",
    "\n",
    "for item in vulnerability:\n",
    "    print(item)"
   ]
  },
  {
   "attachments": {},
   "cell_type": "markdown",
   "metadata": {},
   "source": [
    "### Subscriptable\n",
    "> Object that can contain other objects\n",
    "\n",
    "Object is subscriptable if it implements `__getitem__` method that allows for accessing specific object within an object by means of index. The metod is invoked whenever square brackets `[]` are used."
   ]
  },
  {
   "cell_type": "code",
   "execution_count": null,
   "metadata": {},
   "outputs": [],
   "source": [
    "corporate_keys = [\"di38gu\", \"le83jt\", \"ow33pw\", \"cu39tr\", \"mv18ew\"]\n",
    "random_numbers = [3, 8, 2, 7, 4, 0, 6, 4, 2, 1]\n",
    "\n",
    "\n",
    "class MyList:\n",
    "    def __init__(self, ck_data: list[str], num_data: list[int]) -> None:\n",
    "        self.ck_data = ck_data\n",
    "        self.num_data = num_data\n",
    "\n",
    "    def __getitem__(self, index: int) -> str:\n",
    "        return self.ck_data[index]\n",
    "\n",
    "\n",
    "my_list = MyList(ck_data=corporate_keys, num_data=random_numbers)\n",
    "\n",
    "\n",
    "print(my_list.ck_data[2])\n",
    "print(my_list[2])\n"
   ]
  },
  {
   "attachments": {},
   "cell_type": "markdown",
   "metadata": {},
   "source": [
    "Questions?\n",
    "\n",
    "Exercise\n",
    "\n",
    "=== Short break ==="
   ]
  }
 ],
 "metadata": {
  "kernelspec": {
   "display_name": "Python 3",
   "language": "python",
   "name": "python3"
  },
  "language_info": {
   "codemirror_mode": {
    "name": "ipython",
    "version": 3
   },
   "file_extension": ".py",
   "mimetype": "text/x-python",
   "name": "python",
   "nbconvert_exporter": "python",
   "pygments_lexer": "ipython3",
   "version": "3.10.6"
  },
  "orig_nbformat": 4,
  "vscode": {
   "interpreter": {
    "hash": "631cc59691aa2975cf441ed089e512e56035cd73b61a7e03a7a910c32bac454c"
   }
  }
 },
 "nbformat": 4,
 "nbformat_minor": 2
}
