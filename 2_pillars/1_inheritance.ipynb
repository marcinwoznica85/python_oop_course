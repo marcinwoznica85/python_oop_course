{
 "cells": [
  {
   "attachments": {},
   "cell_type": "markdown",
   "metadata": {},
   "source": [
    "# Inheritance\n",
    "\n",
    "> Inheritance - process that allows inheriting properties from another class\n",
    "\n",
    "> parent class / superclass / base class\n",
    "\n",
    "> child class / subclass / derived class"
   ]
  },
  {
   "attachments": {},
   "cell_type": "markdown",
   "metadata": {},
   "source": [
    "## Single inheritance"
   ]
  },
  {
   "cell_type": "code",
   "execution_count": null,
   "metadata": {},
   "outputs": [],
   "source": [
    "class Animal:\n",
    "    def __init__(self) -> None:\n",
    "        self.hitpoints = 100\n",
    "        \n",
    "    def eat(self) -> None:\n",
    "        print(\"eating\")\n",
    "\n",
    "    def print_hitpoints(self) -> None:\n",
    "        print(self.hitpoints)\n",
    "\n",
    "\n",
    "class Dog(Animal):\n",
    "    def bark(self) -> None:\n",
    "        print(\"wooof!\")\n",
    "\n",
    "\n",
    "dog = Dog()\n",
    "dog.print_hitpoints()\n",
    "dog.eat()\n",
    "dog.bark()"
   ]
  },
  {
   "attachments": {},
   "cell_type": "markdown",
   "metadata": {},
   "source": [
    "Exercise"
   ]
  },
  {
   "attachments": {},
   "cell_type": "markdown",
   "metadata": {},
   "source": [
    "## Multilevel inheritance"
   ]
  },
  {
   "cell_type": "code",
   "execution_count": null,
   "metadata": {},
   "outputs": [],
   "source": [
    "class Grandfather:\n",
    "    def __init__(self) -> None:\n",
    "        self.money = 1000000\n",
    "\n",
    "\n",
    "class Father(Grandfather):\n",
    "    ...\n",
    "\n",
    "\n",
    "class Son(Father):\n",
    "    ...\n",
    "\n",
    "\n",
    "son = Son()\n",
    "print(son.money)"
   ]
  },
  {
   "attachments": {},
   "cell_type": "markdown",
   "metadata": {},
   "source": [
    "## Hierarchical Inheritance"
   ]
  },
  {
   "cell_type": "code",
   "execution_count": null,
   "metadata": {},
   "outputs": [],
   "source": [
    "class Parent:\n",
    "    pass\n",
    "\n",
    "class Child1(Parent):\n",
    "    pass\n",
    "\n",
    "class Child2(Parent):\n",
    "    pass\n",
    "\n",
    "class Child3(Parent):\n",
    "    pass"
   ]
  },
  {
   "attachments": {},
   "cell_type": "markdown",
   "metadata": {},
   "source": [
    "## Multiple inheritance"
   ]
  },
  {
   "cell_type": "code",
   "execution_count": null,
   "metadata": {},
   "outputs": [],
   "source": [
    "class Person:\n",
    "    def person_info(self) -> None:\n",
    "        print(\"Inside Person class\")\n",
    "\n",
    "\n",
    "class Company:\n",
    "    def company_info(self) -> None:\n",
    "        print(\"Inside Company class\")\n",
    "\n",
    "\n",
    "class Employee(Person, Company):\n",
    "    def employee_info(self) -> None:\n",
    "        print(\"Inside Employee class\")\n",
    "\n",
    "\n",
    "employee = Employee()\n",
    "\n",
    "employee.person_info()\n",
    "employee.company_info()\n",
    "employee.employee_info()"
   ]
  },
  {
   "attachments": {},
   "cell_type": "markdown",
   "metadata": {},
   "source": [
    "Exercise"
   ]
  },
  {
   "attachments": {},
   "cell_type": "markdown",
   "metadata": {},
   "source": [
    "## Method Resolution Order (MRO)\n",
    "\n",
    "> Order by which Python looks for a method or attribute\n",
    "\n",
    "The order goes:\n",
    "- depth-first\n",
    "- left-to-right."
   ]
  },
  {
   "cell_type": "code",
   "execution_count": null,
   "metadata": {},
   "outputs": [],
   "source": [
    "class A:\n",
    "    color = \"red\"\n",
    "\n",
    "\n",
    "class B:\n",
    "    color = \"green\"\n",
    "\n",
    "\n",
    "class C(B, A):\n",
    "    ...\n",
    "\n",
    "\n",
    "c = C()\n",
    "print(c.color)\n",
    "\n",
    "C.mro()"
   ]
  },
  {
   "cell_type": "code",
   "execution_count": null,
   "metadata": {},
   "outputs": [],
   "source": [
    "class X:\n",
    "    ...\n",
    "\n",
    "class Y(X):\n",
    "    ...\n",
    "\n",
    "class Z(X,Y):\n",
    "    ..."
   ]
  },
  {
   "attachments": {},
   "cell_type": "markdown",
   "metadata": {},
   "source": [
    "## Mixin\n",
    "> Mixin\n",
    "> - a design pattern for extending functionality of a class\n",
    "> - a class that contains methods for use by other classes without having to be the parent class of those other classes\n",
    "> - should never collide with with class it's applied to or other mixins for that class (MRO doesn't matter)\n",
    "\n",
    "Usage examples:\n",
    "- logging mixin\n",
    "- caching mixin"
   ]
  },
  {
   "cell_type": "code",
   "execution_count": null,
   "metadata": {},
   "outputs": [],
   "source": [
    "class Launcher:\n",
    "    def __init__(self) -> None:\n",
    "        self.hitpoints = 100\n",
    "        self.ammo = 6\n",
    "\n",
    "\n",
    "class ReloadMixin:\n",
    "    def reload(self, amount: int) -> None:\n",
    "        self.ammo += amount\n",
    "\n",
    "\n",
    "class RepairMixin:\n",
    "    def repair(self) -> None:\n",
    "        self.hitpoints += 1\n",
    "\n",
    "\n",
    "class RocketLauncher(ReloadMixin, RepairMixin, Launcher):\n",
    "    def launch_rockets(self, amount: int) -> None:\n",
    "        self.ammo -= amount\n",
    "\n",
    "\n",
    "rocket_launcher = RocketLauncher()\n",
    "rocket_launcher.launch_rockets(amount=4)\n",
    "rocket_launcher.reload(amount=3)\n",
    "rocket_launcher.repair()\n",
    "\n",
    "rocket_launcher.ammo"
   ]
  },
  {
   "attachments": {},
   "cell_type": "markdown",
   "metadata": {},
   "source": [
    "## Composition\n",
    "\n",
    "> Composition - concept of composing a class where its attribute references instance of different class\n",
    "\n",
    "![](../media/inheritance_composition.png)"
   ]
  },
  {
   "attachments": {},
   "cell_type": "markdown",
   "metadata": {},
   "source": [
    "Example 1:\n",
    "\n",
    "- Human __INHERITS__ properties from Animal -> Human __is-a__ Animal\n",
    "- Human is __COMPOSED__ of Animal components -> Human __has-a__ a heart component\n",
    "\n",
    "Example 2:"
   ]
  },
  {
   "cell_type": "code",
   "execution_count": null,
   "metadata": {},
   "outputs": [],
   "source": [
    "class MssqlDialect():  # component class\n",
    "    name = \"MS SQL\"\n",
    "\n",
    "    def insert(self) -> None:\n",
    "        print(\n",
    "            \"INSERT INTO table_name (column1, column2, column3, ...)\",\n",
    "            \"VALUES (value1, value2, value3, ...);\",\n",
    "        )\n",
    "\n",
    "\n",
    "class Orm:  # composite class (made from components)\n",
    "    def __init__(self) -> None:\n",
    "        self.dialect = MssqlDialect()  # <-- composition\n",
    "\n",
    "    def insert(self) -> None:\n",
    "        print(f\"Inserting row using {self.dialect.name} dialect\")\n",
    "        self.dialect.insert()\n",
    "\n",
    "\n",
    "mssql_dialect = MssqlDialect()\n",
    "\n",
    "mssql_orm = Orm()\n",
    "mssql_orm.insert()\n"
   ]
  },
  {
   "attachments": {},
   "cell_type": "markdown",
   "metadata": {},
   "source": [
    "Exercise"
   ]
  },
  {
   "attachments": {},
   "cell_type": "markdown",
   "metadata": {},
   "source": [
    "Questions?"
   ]
  }
 ],
 "metadata": {
  "kernelspec": {
   "display_name": "Python 3",
   "language": "python",
   "name": "python3"
  },
  "language_info": {
   "codemirror_mode": {
    "name": "ipython",
    "version": 3
   },
   "file_extension": ".py",
   "mimetype": "text/x-python",
   "name": "python",
   "nbconvert_exporter": "python",
   "pygments_lexer": "ipython3",
   "version": "3.10.6"
  },
  "orig_nbformat": 4,
  "vscode": {
   "interpreter": {
    "hash": "631cc59691aa2975cf441ed089e512e56035cd73b61a7e03a7a910c32bac454c"
   }
  }
 },
 "nbformat": 4,
 "nbformat_minor": 2
}
