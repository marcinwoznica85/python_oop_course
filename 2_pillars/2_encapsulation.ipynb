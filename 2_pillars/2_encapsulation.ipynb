{
 "cells": [
  {
   "attachments": {},
   "cell_type": "markdown",
   "metadata": {},
   "source": [
    "# Encapsulation\n",
    "\n",
    "> Bundling data and methods within single unit\n",
    "\n",
    "- readable code\n",
    "- preventing accidental modification and deletion (namespace)\n",
    "- information hiding (interface)"
   ]
  },
  {
   "attachments": {},
   "cell_type": "markdown",
   "metadata": {},
   "source": [
    "## Methods\n",
    "- instance / bound methods\n",
    "- class methods\n",
    "- static methods"
   ]
  },
  {
   "cell_type": "code",
   "execution_count": null,
   "metadata": {},
   "outputs": [],
   "source": [
    "class Bank:\n",
    "    class_var = \"class_var\"\n",
    "\n",
    "    def __init__(self) -> None:\n",
    "        self.instance_var = \"instance_var\"\n",
    "\n",
    "    # instance or bound method\n",
    "    def method_1(self) -> None:\n",
    "        print(self.class_var)\n",
    "        print(self.instance_var)\n",
    "\n",
    "    @classmethod\n",
    "    def method_2(cls) -> None:  # no access to self\n",
    "        print(cls.class_var)\n",
    "\n",
    "    @staticmethod\n",
    "    def method_3() -> None:  # no access to self and cls\n",
    "        print(\"literal_var\")\n",
    "\n",
    "\n",
    "bank = Bank()\n",
    "\n",
    "bank.method_1()\n",
    "bank.method_2()\n",
    "bank.method_3()"
   ]
  },
  {
   "attachments": {},
   "cell_type": "markdown",
   "metadata": {},
   "source": [
    "# Attributes\n",
    "\n",
    "- public - `variable`\n",
    "- protected - `_variable`\n",
    "- private - `__variable` (discouraged)\n",
    "\n"
   ]
  },
  {
   "cell_type": "code",
   "execution_count": null,
   "metadata": {},
   "outputs": [],
   "source": [
    "class Bank:\n",
    "    class_var = 40\n",
    "\n",
    "    def __init__(self) -> None:\n",
    "        self.public = 10\n",
    "        self._protected = 20\n",
    "        self.__private = 30  # no direct access from instance/subclass\n",
    "\n",
    "\n",
    "bank = Bank()\n",
    "print(dir(bank))  # see name mangling of __private\n",
    "\n",
    "bank.public\n",
    "bank._protected\n",
    "bank._Bank__private\n",
    "\n",
    "# bank.__private"
   ]
  },
  {
   "attachments": {},
   "cell_type": "markdown",
   "metadata": {},
   "source": [
    "## Interface\n",
    "- public interface\n",
    "- protected interface\n",
    "- private interface\n",
    "\n",
    "![](../media/str_interface.png)"
   ]
  },
  {
   "attachments": {},
   "cell_type": "markdown",
   "metadata": {},
   "source": [
    "## Information hiding\n",
    "- hiding of attributes or methods from the user\n",
    "- protects object integrity by preventing unintended changes\n",
    "- reduces complexity\n",
    "- in Python information hiding is usually achieved by using access modifiers and `property()`"
   ]
  },
  {
   "attachments": {},
   "cell_type": "markdown",
   "metadata": {},
   "source": [
    "### Property\n",
    "Default behavior of attributes is that they can be accessed in 3 ways:\n",
    "- by _getter_ function eg. `person.age` directly returning value of attribute\n",
    "- by _setter_ function eg. `person.age = 18` directly assigning value to attribute\n",
    "- by _deleter_ function eg. `del person.age` directly deleting attribute\n",
    "\n",
    "In order to modify default _getter_, _setter_ or _deleter_ functions for an attribute we use `property()` function. It allows defining __managed attribute__ with custom getter, setter and deleter."
   ]
  },
  {
   "cell_type": "code",
   "execution_count": null,
   "metadata": {},
   "outputs": [],
   "source": [
    "class Starship:\n",
    "    def __init__(self) -> None:\n",
    "        self._velocity = 10\n",
    "        self.booster = True\n",
    "\n",
    "    def x_get(self) -> int:  # custom getter function\n",
    "        return self._velocity\n",
    "\n",
    "    def x_set(self, new_value: int) -> None:  # custom setter function\n",
    "        self._velocity = new_value\n",
    "        if self.booster:\n",
    "            self._velocity += 5\n",
    "\n",
    "    def x_del(self) -> None:  # custom deleter function\n",
    "        print(\"no deleting please\")\n",
    "\n",
    "    velocity = property(\n",
    "        fget=x_get,\n",
    "        fset=x_set,\n",
    "        fdel=x_del,\n",
    "    )\n",
    "\n",
    "\n",
    "starship = Starship()\n",
    "\n",
    "print(starship.velocity)  # get\n",
    "starship.velocity = 20  # set\n",
    "print(starship.velocity)  # get\n",
    "\n",
    "del starship.velocity  # del"
   ]
  },
  {
   "attachments": {},
   "cell_type": "markdown",
   "metadata": {},
   "source": [
    "Questions?"
   ]
  },
  {
   "attachments": {},
   "cell_type": "markdown",
   "metadata": {},
   "source": [
    "Exercise\n",
    "\n",
    "=== Long break ==="
   ]
  }
 ],
 "metadata": {
  "kernelspec": {
   "display_name": "Python 3",
   "language": "python",
   "name": "python3"
  },
  "language_info": {
   "codemirror_mode": {
    "name": "ipython",
    "version": 3
   },
   "file_extension": ".py",
   "mimetype": "text/x-python",
   "name": "python",
   "nbconvert_exporter": "python",
   "pygments_lexer": "ipython3",
   "version": "3.10.6"
  },
  "orig_nbformat": 4,
  "vscode": {
   "interpreter": {
    "hash": "631cc59691aa2975cf441ed089e512e56035cd73b61a7e03a7a910c32bac454c"
   }
  }
 },
 "nbformat": 4,
 "nbformat_minor": 2
}
