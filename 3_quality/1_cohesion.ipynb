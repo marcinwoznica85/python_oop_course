{
 "cells": [
  {
   "attachments": {},
   "cell_type": "markdown",
   "metadata": {},
   "source": [
    "# Cohesion\n",
    "\n",
    ">Cohesion -  the degree to which the elements inside a module belong together\n",
    "\n",
    "A good program shows a high degree of cohesion"
   ]
  },
  {
   "cell_type": "code",
   "execution_count": null,
   "metadata": {},
   "outputs": [],
   "source": [
    "class ReactorOperation:\n",
    "    \"\"\"Class responsible for operating a reactor\"\"\"\n",
    "\n",
    "    def __init__(self) -> None:\n",
    "        self.power_gigawats = 4\n",
    "        self.uranium_rods = 10000\n",
    "\n",
    "    def start_nuclear_fission(self) -> bool:\n",
    "        ...\n",
    "\n",
    "    def pump_water_into_heat_exchanger(self) -> bool:\n",
    "        ...\n",
    "\n",
    "    def open_steam_valves(self) -> bool:\n",
    "        ...\n",
    "\n",
    "    def activate_electric_generator(self) -> bool:\n",
    "        ...\n",
    "\n",
    "    def get_staff_names(self) -> list[str]:\n",
    "        ...\n",
    "\n",
    "    def buy_uranium_235(self) -> None:\n",
    "        ...\n",
    "\n",
    "    def convert_power_output(self) -> int:\n",
    "        ...\n",
    "\n",
    "\n",
    "class ReactorStaff:\n",
    "    ...\n",
    "\n",
    "\n",
    "class ReactorInventory:\n",
    "    ...\n",
    "\n",
    "class ReactorUtility:\n",
    "    ..."
   ]
  },
  {
   "attachments": {},
   "cell_type": "markdown",
   "metadata": {},
   "source": [
    "### Types of cohesion\n",
    "- Coincidental - when parts of module are grouped without real relationship between them eg. `read_database()`, `delete_file()`\n",
    "- Logical - when parts of module are grouped because they are semanticaly related (but without real relation) eg. `read_database()`, `read_image_metadata()`\n",
    "- Temporal - when parts of module are grouped because they need to be executed at the same time `display_error_message()`, `write_error_log()`, `notify_admin()`\n",
    "- Procedural - when parts of module are grouped because they always follow a certain sequence of execution `read_api()`, `convert_data()`, `save_to_db()`\n",
    "- Communicational - when parts of a module are grouped because they operate on the same data eg. `generate_id()`, `send_report_with_id()`\n",
    "- Sequential - when parts of a module are grouped because the output from one part is the input to another part like an assembly line eg. `extract_data()`, `transform_data()`, `load_data()`\n",
    "- Functional - when parts of a module are grouped because they all contribute to a single well-defined task of the module `db_select()`, `db_insert()`, `db_update()`"
   ]
  }
 ],
 "metadata": {
  "kernelspec": {
   "display_name": "python-oop-r_Rj-fig-py3.10",
   "language": "python",
   "name": "python3"
  },
  "language_info": {
   "name": "python",
   "version": "3.10.6"
  },
  "orig_nbformat": 4,
  "vscode": {
   "interpreter": {
    "hash": "61a0187907a68c34b7d3c9479ef03cf0dde3071604f882e18ddbd2f3d951afe1"
   }
  }
 },
 "nbformat": 4,
 "nbformat_minor": 2
}
