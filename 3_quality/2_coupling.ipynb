{
 "cells": [
  {
   "attachments": {},
   "cell_type": "markdown",
   "metadata": {},
   "source": [
    "# Coupling\n",
    "\n",
    "> Coupling - the degree of interdependence between software modules\n",
    "\n",
    "High coupling indicates a strong interdependence between components, meaning that changes to one component can have a significant impact on the other component.\n",
    "\n",
    "Low coupling, on the other hand, means that the components are loosely connected and changes to one component are less likely to affect the other component. \n",
    "\n",
    "In general, loose coupling is preferred as it makes software more flexible, scalable, and maintainable."
   ]
  },
  {
   "cell_type": "code",
   "execution_count": null,
   "metadata": {},
   "outputs": [],
   "source": [
    "class Database:\n",
    "    def __init__(self) -> None:\n",
    "        self.data = []\n",
    "\n",
    "    def add_data(self, data: str) -> None:\n",
    "        self.data.append(data)\n",
    "\n",
    "\n",
    "class User:\n",
    "    \"\"\"\n",
    "    User class is tightly coupled to the Database\n",
    "    User class must be aware of Database add_data() method\n",
    "    \"\"\"\n",
    "\n",
    "    def __init__(self, database: Database) -> None:\n",
    "        self.database = database\n",
    "\n",
    "    def add_data(self, data: str) -> None:\n",
    "        self.database.add_data(data)\n",
    "\n",
    "database = Database()\n",
    "user = User(database=database)\n",
    "user.add_data(data=\"Andrew Tate\")\n",
    "user.add_data(data=\"Tristan Tate\")\n",
    "database.data"
   ]
  },
  {
   "cell_type": "code",
   "execution_count": 2,
   "metadata": {},
   "outputs": [
    {
     "data": {
      "text/plain": [
       "['Andrew Golota', 'Mike Tyson']"
      ]
     },
     "execution_count": 2,
     "metadata": {},
     "output_type": "execute_result"
    }
   ],
   "source": [
    "from typing import Callable\n",
    "\n",
    "class Database:\n",
    "    def __init__(self) -> None:\n",
    "        self.data = []\n",
    "\n",
    "    def the_worst_method_name_ever(self, data: str) -> None:\n",
    "        self.data.append(data)\n",
    "\n",
    "\n",
    "class User:\n",
    "    \"\"\"\n",
    "    User class is loosely coupled to the Database\n",
    "    User class doesn't care about Database methods\n",
    "    \"\"\"\n",
    "\n",
    "    def __init__(self, add_data_function: Callable[[str], None]) -> None:\n",
    "        self.add_data_function = add_data_function\n",
    "\n",
    "    def add_data(self, data: str) -> None:\n",
    "        self.add_data_function(data)\n",
    "\n",
    "\n",
    "database = Database()\n",
    "user = User(add_data_function=database.the_worst_method_name_ever)\n",
    "user.add_data(\"Andrew Golota\")\n",
    "user.add_data(\"Mike Tyson\")\n",
    "database.data"
   ]
  },
  {
   "attachments": {},
   "cell_type": "markdown",
   "metadata": {},
   "source": [
    "### Types of coupling\n",
    "- Content - classes are dependent on each other’s internal structures & their implementations\n",
    "- Data - dependence of a software component on data, not exclusively under the control of that component (eg. API)\n",
    "- External - when two modules share an externally imposed data format, communication protocol, or device interface\n",
    "- Common - dependencies on global variables\n",
    "- Control - degree by which one software component influences the execution of another software component (eg. control flow flag)\n",
    "- Inheritance - direct use of inheritance\n",
    "- Abstract - inheritance through abstract classes\n",
    "- No-coupling - unrelated components\n",
    "- Other"
   ]
  }
 ],
 "metadata": {
  "kernelspec": {
   "display_name": "Python 3",
   "language": "python",
   "name": "python3"
  },
  "language_info": {
   "codemirror_mode": {
    "name": "ipython",
    "version": 3
   },
   "file_extension": ".py",
   "mimetype": "text/x-python",
   "name": "python",
   "nbconvert_exporter": "python",
   "pygments_lexer": "ipython3",
   "version": "3.10.6"
  },
  "orig_nbformat": 4,
  "vscode": {
   "interpreter": {
    "hash": "631cc59691aa2975cf441ed089e512e56035cd73b61a7e03a7a910c32bac454c"
   }
  }
 },
 "nbformat": 4,
 "nbformat_minor": 2
}
